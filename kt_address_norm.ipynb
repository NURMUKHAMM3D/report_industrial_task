{
 "cells": [
  {
   "cell_type": "code",
   "execution_count": 1,
   "id": "ca4ddafe-125d-489f-9093-72c77ad5be6d",
   "metadata": {},
   "outputs": [
    {
     "name": "stdout",
     "output_type": "stream",
     "text": [
      "✅ Всё готово! Удалены квартиры, 'дом', 'г.', и уличные обозначения. Сохранено в 'General_legal_cleaned.xlsx'\n"
     ]
    }
   ],
   "source": [
    "import pandas as pd\n",
    "import re\n",
    "\n",
    "def clean_city_prefix(text):\n",
    "    \"\"\"\n",
    "    Удаляет всё ДО и включая 'г. Город' или 'г.Город'\n",
    "    \"\"\"\n",
    "    if pd.isna(text):\n",
    "        return text\n",
    "    text = str(text).upper()\n",
    "    text = re.sub(r'^.*?\\bГ\\.\\s*\\w+', '', text)\n",
    "    return text.strip()\n",
    "\n",
    "def remove_apartment_part(text):\n",
    "    \"\"\"\n",
    "    Удаляет квартиры и дом:\n",
    "    - 'кв', 'кв.', 'кв12', 'кв.12А'\n",
    "    - 'к.' если после цифра\n",
    "    - 'квартира' + номер\n",
    "    - 'дом', 'д.'\n",
    "    \"\"\"\n",
    "    if pd.isna(text):\n",
    "        return text\n",
    "    text = str(text)\n",
    "\n",
    "    # Удаляем квартиру\n",
    "    text = re.sub(r',?\\s*\\bкв\\.?\\s*\\d+[А-Яа-я]?\\b.*', '', text, flags=re.IGNORECASE)\n",
    "    text = re.sub(r'\\bкв\\.?\\d+[А-Яа-я]?\\b.*', '', text, flags=re.IGNORECASE)\n",
    "    text = re.sub(r'\\s*\\bк\\.\\s*\\d+[А-Яа-я]?\\b.*', '', text, flags=re.IGNORECASE)\n",
    "    text = re.sub(r',?\\s*\\bквартира\\s*\\d+[А-Яа-я]?\\b.*', '', text, flags=re.IGNORECASE)\n",
    "\n",
    "    # Удаляем дом\n",
    "    text = re.sub(r'\\bдом\\b\\.?', '', text, flags=re.IGNORECASE)\n",
    "    text = re.sub(r'\\bд\\.\\s*', '', text, flags=re.IGNORECASE)\n",
    "\n",
    "    return text.strip()\n",
    "\n",
    "def remove_address_keywords(text):\n",
    "    \"\"\"\n",
    "    Удаляет слова: улица, ул, ул., микрорайон, мкр, мкр., переулок, проспект\n",
    "    \"\"\"\n",
    "    if pd.isna(text):\n",
    "        return text\n",
    "    text = str(text)\n",
    "\n",
    "    # Удаляем указанные слова\n",
    "    text = re.sub(r'\\b(улица|ул\\.?|микрорайон|мкр\\.?|переулок|проспект)\\b', '', text, flags=re.IGNORECASE)\n",
    "\n",
    "    return re.sub(r'\\s+', ' ', text).strip()\n",
    "\n",
    "# Загружаем файл\n",
    "df = pd.read_excel(\"General_legal (2).xlsx\")\n",
    "\n",
    "# Удаляем пустые строки\n",
    "original_column = 'legal_address'\n",
    "df = df[df[original_column].notna() & (df[original_column].astype(str).str.strip() != '')]\n",
    "\n",
    "# Обработка\n",
    "df['cleaned_address'] = (\n",
    "    df[original_column]\n",
    "    .apply(clean_city_prefix)\n",
    "    .apply(remove_apartment_part)\n",
    "    .apply(remove_address_keywords)\n",
    ")\n",
    "\n",
    "# Сохраняем\n",
    "df.to_excel(\"General_legal_cleaned.xlsx\", index=False)\n",
    "\n",
    "print(\"✅ Всё готово! Удалены квартиры, 'дом', 'г.', и уличные обозначения. Сохранено в 'General_legal_cleaned.xlsx'\")\n"
   ]
  },
  {
   "cell_type": "code",
   "execution_count": 2,
   "id": "2fdf0caa-83b5-4746-bbf6-27b1498f8181",
   "metadata": {},
   "outputs": [],
   "source": [
    "import pandas as pd\n",
    "\n",
    "# Загрузка файла\n",
    "df = pd.read_excel(\"General_KT.xlsx\")  # замените на ваш путь к файлу\n",
    "\n",
    "# Заменяем \"-\" на пустую строку в столбце 1.dev_housing\n",
    "df[\"1.dev_housing\"] = df[\"1.dev_housing\"].replace(\"-\", \"\")\n",
    "\n",
    "# Объединяем столбцы через запятую, исключая пустые\n",
    "df[\"full_address\"] = df[[\"1.dev_street_name\", \"1.dev_house\", \"1.dev_housing\"]].apply(\n",
    "    lambda row: \", \".join([str(val) for val in row if str(val).strip()]), axis=1\n",
    ")\n",
    "\n",
    "# Сохраняем результат\n",
    "df.to_excel(\"general_kt_cleaned.xlsx\", index=False)\n"
   ]
  },
  {
   "cell_type": "code",
   "execution_count": 3,
   "id": "f3e44812-7734-4c0d-a061-ab4c86fcfbcf",
   "metadata": {},
   "outputs": [
    {
     "name": "stdout",
     "output_type": "stream",
     "text": [
      "✅ Сравнение завершено. Результат сохранён в 'fuzzy_merged_addresses.xlsx'\n"
     ]
    }
   ],
   "source": [
    "import pandas as pd\n",
    "from rapidfuzz import process, fuzz\n",
    "\n",
    "# Загрузка\n",
    "df1 = pd.read_excel(\"General_legal_cleaned.xlsx\")  # с 'cleaned_address'\n",
    "df2 = pd.read_excel(\"general_kt_cleaned.xlsx\")     # с 'full_address'\n",
    "\n",
    "# Очистка от NaN и ?-знаков\n",
    "def normalize(text):\n",
    "    if pd.isna(text):\n",
    "        return ''\n",
    "    text = str(text).upper()\n",
    "    text = text.replace('?', '')  # убираем знаки вопроса\n",
    "    text = ' '.join(text.split())  # удаляем лишние пробелы\n",
    "    return text.strip()\n",
    "\n",
    "df1['norm_address'] = df1['cleaned_address'].apply(normalize)\n",
    "df2['norm_address'] = df2['full_address'].apply(normalize)\n",
    "\n",
    "# Список адресов для поиска\n",
    "target_list = df2['norm_address'].tolist()\n",
    "\n",
    "# Порог совпадения\n",
    "THRESHOLD = 80\n",
    "\n",
    "# Поиск лучшего совпадения + скор\n",
    "def find_match_with_score(addr):\n",
    "    match = process.extractOne(addr, target_list, scorer=fuzz.partial_ratio)\n",
    "    if match and match[1] >= THRESHOLD:\n",
    "        return pd.Series({'matched_address': match[0], 'score': match[1]})\n",
    "    return pd.Series({'matched_address': None, 'score': None})\n",
    "\n",
    "# Применяем\n",
    "matches = df1['norm_address'].apply(find_match_with_score)\n",
    "df1 = pd.concat([df1, matches], axis=1)\n",
    "\n",
    "# Объединяем с исходным df2\n",
    "merged_df = df1.merge(df2, left_on='matched_address', right_on='norm_address', how='left', suffixes=('_1', '_2'))\n",
    "\n",
    "# Сохраняем\n",
    "merged_df.to_excel(\"fuzzy_merged_addresses.xlsx\", index=False)\n",
    "\n",
    "print(\"✅ Сравнение завершено. Результат сохранён в 'fuzzy_merged_addresses.xlsx'\")\n"
   ]
  },
  {
   "cell_type": "code",
   "execution_count": 2,
   "id": "aca27b85-f2c6-4d14-a78c-6460934c150f",
   "metadata": {},
   "outputs": [
    {
     "name": "stdout",
     "output_type": "stream",
     "text": [
      "✅ Всё сопоставлено в lower case. Результат: 'device_town_matched_lower.xlsx'\n"
     ]
    }
   ],
   "source": [
    "import pandas as pd\n",
    "from rapidfuzz import process, fuzz\n",
    "\n",
    "# Загрузка данных\n",
    "df_kt = pd.read_excel(\"general_kt_cleaned.xlsx\")\n",
    "df_legal = pd.read_excel(\"General_legal_cleaned.xlsx\")\n",
    "\n",
    "# Приводим device_town к нижнему регистру\n",
    "df_kt['device_town_norm'] = df_kt['1.device_town'].astype(str).str.lower().str.strip()\n",
    "\n",
    "# Функция: ищем по kato_level_0 → kato_level_3 в нижнем регистре\n",
    "def match_device_town(town):\n",
    "    for level in ['kato_level_0', 'kato_level_1', 'kato_level_2', 'kato_level_3']:\n",
    "        level_values = df_legal[level].dropna().astype(str).str.lower().tolist()\n",
    "        result = process.extractOne(town, level_values, scorer=fuzz.partial_ratio)\n",
    "        if result and result[1] >= 85:\n",
    "            return pd.Series({'matched_level': level, 'matched_value': result[0], 'score': result[1]})\n",
    "    return pd.Series({'matched_level': None, 'matched_value': None, 'score': None})\n",
    "\n",
    "# Применяем к каждому device_town\n",
    "matches = df_kt['device_town_norm'].apply(match_device_town)\n",
    "df_kt = pd.concat([df_kt, matches], axis=1)\n",
    "\n",
    "# Сохраняем результат\n",
    "df_kt.to_excel(\"device_town_matched_lower.xlsx\", index=False)\n",
    "\n",
    "print(\"✅ Всё сопоставлено в lower case. Результат: 'device_town_matched_lower.xlsx'\")"
   ]
  },
  {
   "cell_type": "code",
   "execution_count": null,
   "id": "fa807ec4-9cc0-4f1f-9c6e-fb8e687ac2a7",
   "metadata": {},
   "outputs": [],
   "source": []
  }
 ],
 "metadata": {
  "kernelspec": {
   "display_name": "Python 3 (ipykernel)",
   "language": "python",
   "name": "python3"
  },
  "language_info": {
   "codemirror_mode": {
    "name": "ipython",
    "version": 3
   },
   "file_extension": ".py",
   "mimetype": "text/x-python",
   "name": "python",
   "nbconvert_exporter": "python",
   "pygments_lexer": "ipython3",
   "version": "3.12.2"
  }
 },
 "nbformat": 4,
 "nbformat_minor": 5
}
