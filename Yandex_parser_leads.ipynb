{
 "cells": [
  {
   "cell_type": "markdown",
   "metadata": {},
   "source": [
    "<center>\n",
    "  <img src=\"images.png\" alt=\"Description of the image\" />\n",
    "  <div style=\"font-size: 26px\">Сбор Лидов</div>\n",
    "</center>"
   ]
  },
  {
   "cell_type": "markdown",
   "metadata": {},
   "source": [
    "***\n",
    "Собираем данные:\n",
    " * Ссылка на Yandex карты\n",
    " * Название\n",
    " * Адрес\n",
    " * Телефон\n",
    " * Рейтинг\n",
    " * Кол-во отзывов\n",
    " * Сайт\n",
    " * Доп. информация"
   ]
  },
  {
   "cell_type": "markdown",
   "metadata": {},
   "source": [
    "***\n",
    "Для работы нам понадобятся **библиотеки**:\n",
    " * Selenium\n",
    " * Pandas\n",
    " * bs4\n",
    " * IPython\n",
    "\n",
    "**Установка через pip:** `pip install selenium Pandas bs4 IPython`\n",
    "\n",
    "**Установка через conda:**`conda install -c conda-forge selenium Pandas IPython`"
   ]
  },
  {
   "cell_type": "markdown",
   "metadata": {},
   "source": [
    "***\n",
    "**Импортирование необходимых библиотек**"
   ]
  },
  {
   "cell_type": "code",
   "execution_count": 37,
   "metadata": {
    "pycharm": {
     "name": "#%%\n"
    }
   },
   "outputs": [],
   "source": [
    "from time import sleep\n",
    "from datetime import datetime\n",
    "\n",
    "from selenium import webdriver\n",
    "from selenium.webdriver.common.by import By\n",
    "from selenium.webdriver.support.ui import WebDriverWait\n",
    "from selenium.webdriver.chrome.options import Options\n",
    "from selenium.webdriver.support import expected_conditions as EC\n",
    "from bs4 import BeautifulSoup\n",
    "import pandas as pd\n",
    "from IPython.display import clear_output # необходимо для удобного вывода информации\n"
   ]
  },
  {
   "cell_type": "markdown",
   "metadata": {},
   "source": [
    "***\n",
    "Необходимо ввести 3 переменные:\n",
    " * Населенный пункт\n",
    " * Заведение\n",
    " * Объёмом выборки\n"
   ]
  },
  {
   "cell_type": "code",
   "execution_count": 38,
   "metadata": {},
   "outputs": [],
   "source": [
    "location = 'москва выхино' # населенный пункт\n",
    "title = 'риэлтор' # заведение\n",
    "count_of_units = 1000 # объем выборки"
   ]
  },
  {
   "cell_type": "markdown",
   "metadata": {},
   "source": [
    "***\n",
    "Настраиваем работу драйвера, отключаем изображения для оптимизации"
   ]
  },
  {
   "cell_type": "code",
   "execution_count": 39,
   "metadata": {},
   "outputs": [],
   "source": [
    "options = Options()\n",
    "prefs = {\"profile.managed_default_content_settings.images\": 2}\n",
    "options.add_experimental_option(\"prefs\", prefs)  # без картинок"
   ]
  },
  {
   "cell_type": "code",
   "execution_count": 40,
   "metadata": {
    "pycharm": {
     "name": "#%%\n"
    }
   },
   "outputs": [],
   "source": [
    "driver = webdriver.Chrome(options=options)\n",
    "# Открыть URL\n",
    "url = f'https://yandex.ru/maps/213/moscow/search/{location}%20{title}'\n",
    "driver.get(url)"
   ]
  },
  {
   "cell_type": "code",
   "execution_count": 41,
   "metadata": {},
   "outputs": [],
   "source": [
    "# Ожидание элемента до тех пор, пока он не будет найден\n",
    "wait = WebDriverWait(driver, 10)  # 10 секунд ожидания\n",
    "elements = wait.until(EC.presence_of_all_elements_located((By.CSS_SELECTOR, \".search-snippet-view__link-overlay._focusable\")))"
   ]
  },
  {
   "cell_type": "markdown",
   "metadata": {},
   "source": [
    "***\n",
    "Автоматический скроллинг"
   ]
  },
  {
   "cell_type": "code",
   "execution_count": null,
   "metadata": {
    "pycharm": {
     "name": "#%%\n"
    }
   },
   "outputs": [],
   "source": [
    "n = 0\n",
    "while len(elements)<count_of_units:\n",
    "    clear_output(wait=True) # удаления предыдущего print и замены его на новый\n",
    "    sleep(1)\n",
    "    elements1 = len(elements)\n",
    "    elements = driver.find_elements(By.CLASS_NAME, \"search-business-snippet-view__content\")\n",
    "    driver.execute_script(\"arguments[0].scrollIntoView(true);\", elements[-1])\n",
    "    elements = driver.find_elements(By.CLASS_NAME, \"search-business-snippet-view__content\")\n",
    "    elements2 = len(elements)\n",
    "    print(f'кол-во - {len(elements)}', end=' ')\n",
    "    # Дополнительный, цикл, если список больше не обновляется, через 30 попыток, цикл отключается\n",
    "    if elements1 == elements2:\n",
    "        n = n+1\n",
    "        print('n = ', n, end=' ')\n",
    "        if n >=10:\n",
    "            break\n",
    "    else:\n",
    "        n = 0"
   ]
  },
  {
   "cell_type": "code",
   "execution_count": 33,
   "metadata": {},
   "outputs": [],
   "source": [
    "# Ожидание элемента до тех пор, пока он не будет найден\n",
    "wait = WebDriverWait(driver, 10)  # 10 секунд ожидания\n",
    "elements = wait.until(EC.presence_of_all_elements_located((By.CSS_SELECTOR, \".search-snippet-view__link-overlay._focusable\")))"
   ]
  },
  {
   "cell_type": "code",
   "execution_count": null,
   "metadata": {},
   "outputs": [],
   "source": [
    "len(elements) #Смотрим кол-во собранных заведений"
   ]
  },
  {
   "cell_type": "markdown",
   "metadata": {},
   "source": [
    "***\n",
    "Сбор ссылок на заведения в список"
   ]
  },
  {
   "cell_type": "code",
   "execution_count": null,
   "metadata": {
    "pycharm": {
     "name": "#%%\n"
    }
   },
   "outputs": [],
   "source": [
    "href_list = []\n",
    "for i in elements:\n",
    "    href = i.get_attribute('href')\n",
    "    href_list.append(href)\n",
    "href_list"
   ]
  },
  {
   "cell_type": "markdown",
   "metadata": {},
   "source": [
    "***\n",
    "Сбор необходимых данных из каждой ссылки"
   ]
  },
  {
   "cell_type": "code",
   "execution_count": null,
   "metadata": {
    "pycharm": {
     "name": "#%%\n"
    }
   },
   "outputs": [],
   "source": [
    "keys = {'href': [], 'name': [], 'adress': [], 'phone':[], 'rate':[], 'rate_count':[], 'site':[], 'average_bill':[]}\n",
    "\n",
    "n = 1\n",
    "for i in href_list:\n",
    "    clear_output(wait=True)\n",
    "    driver.get(i)\n",
    "    sourse = driver.page_source\n",
    "    soup =BeautifulSoup(sourse)\n",
    "    try:\n",
    "        keys['href'].append(i)\n",
    "    except:\n",
    "        keys['href'].append('null')\n",
    "\n",
    "    try:\n",
    "        name = soup.find('h1', class_='orgpage-header-view__header')\n",
    "        keys['name'].append(name.text)\n",
    "    except:\n",
    "        keys['name'].append('null')\n",
    "\n",
    "    try:\n",
    "        adress = soup.find('a', class_='orgpage-header-view__address')\n",
    "        keys['adress'].append(adress.text)\n",
    "    except:\n",
    "        keys['adress'].append('null')\n",
    "\n",
    "    try:\n",
    "        phone = soup.find('div', class_='orgpage-phones-view__phone-number')\n",
    "        keys['phone'].append(phone.text)\n",
    "    except:\n",
    "        keys['phone'].append('null')\n",
    "\n",
    "    try:\n",
    "        rate = soup.find('span', class_='business-rating-badge-view__rating-text')\n",
    "        keys['rate'].append(rate.text)\n",
    "    except:\n",
    "        keys['rate'].append('null')\n",
    "\n",
    "    try:\n",
    "        rate_count = soup.find('div', class_='business-header-rating-view__text _clickable')\n",
    "        keys['rate_count'].append(rate_count.text)\n",
    "    except:\n",
    "        keys['rate_count'].append('null')\n",
    "\n",
    "    try:\n",
    "        site = soup.find('span', class_='business-urls-view__text')\n",
    "        keys['site'].append(site.text)\n",
    "    except:\n",
    "        keys['site'].append('null')\n",
    "\n",
    "    try:\n",
    "        average_bill = soup.find('span', class_='business-features-view__valued-value')\n",
    "        keys['average_bill'].append(average_bill.text)\n",
    "    except:\n",
    "        keys['average_bill'].append('null')\n",
    "    # Этап обработки данных\n",
    "    print(f'{n}/{len(href_list)}')\n",
    "    n = n+1"
   ]
  },
  {
   "cell_type": "markdown",
   "metadata": {},
   "source": [
    "***\n",
    "Формируем таблицу и создаем Excel файл"
   ]
  },
  {
   "cell_type": "code",
   "execution_count": null,
   "metadata": {
    "pycharm": {
     "name": "#%%\n"
    }
   },
   "outputs": [],
   "source": [
    "now = datetime.now()\n",
    "date_time_str = now.strftime(\"%Y-%m-%d %H-%M-%S\") # сегодняшняя дата и время на имени Excel файла\n",
    "\n",
    "df = pd.DataFrame(keys)\n",
    "df.to_excel(f'{location}-{title}-{date_time_str}.xlsx')\n",
    "df"
   ]
  }
 ],
 "metadata": {
  "kernelspec": {
   "display_name": "Python 3",
   "language": "python",
   "name": "python3"
  },
  "language_info": {
   "codemirror_mode": {
    "name": "ipython",
    "version": 3
   },
   "file_extension": ".py",
   "mimetype": "text/x-python",
   "name": "python",
   "nbconvert_exporter": "python",
   "pygments_lexer": "ipython3",
   "version": "3.11.5"
  }
 },
 "nbformat": 4,
 "nbformat_minor": 2
}
